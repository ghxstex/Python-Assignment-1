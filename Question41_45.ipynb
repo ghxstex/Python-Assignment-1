{
  "nbformat": 4,
  "nbformat_minor": 0,
  "metadata": {
    "colab": {
      "provenance": [],
      "authorship_tag": "ABX9TyPGoHMMDvVFxJOCCKFlQPPx",
      "include_colab_link": true
    },
    "kernelspec": {
      "name": "python3",
      "display_name": "Python 3"
    },
    "language_info": {
      "name": "python"
    }
  },
  "cells": [
    {
      "cell_type": "markdown",
      "metadata": {
        "id": "view-in-github",
        "colab_type": "text"
      },
      "source": [
        "<a href=\"https://colab.research.google.com/github/ghxstex/Python-Assignment-1/blob/main/Question41_45.ipynb\" target=\"_parent\"><img src=\"https://colab.research.google.com/assets/colab-badge.svg\" alt=\"Open In Colab\"/></a>"
      ]
    },
    {
      "cell_type": "markdown",
      "source": [
        "# Write a Python program to read the contents of a file and\n",
        "# display it.\n"
      ],
      "metadata": {
        "id": "MVbhB7dQLDrj"
      }
    },
    {
      "cell_type": "code",
      "source": [
        "file = open(\"sample.txt\", \"r\")\n",
        "content = file.read()\n",
        "print(content)\n",
        "file.close()\n"
      ],
      "metadata": {
        "id": "jp0MMNHsLsT3"
      },
      "execution_count": null,
      "outputs": []
    },
    {
      "cell_type": "markdown",
      "source": [
        "# Count the number of words in a file."
      ],
      "metadata": {
        "id": "V4tPmYS9LHfX"
      }
    },
    {
      "cell_type": "code",
      "source": [
        "file = open(\"sample.txt\", \"r\")\n",
        "content = file.read()\n",
        "words = content.split()\n",
        "print(\"Word count:\", len(words))\n",
        "file.close()\n"
      ],
      "metadata": {
        "id": "iqc4-2X3LtHB"
      },
      "execution_count": null,
      "outputs": []
    },
    {
      "cell_type": "markdown",
      "source": [
        "# Copy contents of one file to another.\n"
      ],
      "metadata": {
        "id": "MrE1sbGkLIYP"
      }
    },
    {
      "cell_type": "code",
      "source": [
        "source = open(\"sample.txt\", \"r\")\n",
        "target = open(\"copy.txt\", \"w\")\n",
        "target.write(source.read())\n",
        "source.close()\n",
        "target.close()\n"
      ],
      "metadata": {
        "id": "1U-OcX1SLv-r"
      },
      "execution_count": null,
      "outputs": []
    },
    {
      "cell_type": "markdown",
      "source": [
        "# Print only the lines that have more than 50 characters\n",
        "# from a text file."
      ],
      "metadata": {
        "id": "Dto9fLmjLLlB"
      }
    },
    {
      "cell_type": "code",
      "source": [
        "file = open(\"sample.txt\", \"r\")\n",
        "for line in file:\n",
        "    if len(line.strip()) > 50:\n",
        "        print(line.strip())\n",
        "file.close()\n"
      ],
      "metadata": {
        "id": "TloO6SGKLyPN"
      },
      "execution_count": null,
      "outputs": []
    },
    {
      "cell_type": "markdown",
      "source": [
        "# Write a program to write a list of strings into a text file (one\n",
        "# string per line)."
      ],
      "metadata": {
        "id": "HyAtf0UlLRrW"
      }
    },
    {
      "cell_type": "code",
      "source": [
        "lines = [\"Hello world\", \"Python is fun\", \"File handling is easy\"]\n",
        "file = open(\"output.txt\", \"w\")\n",
        "for line in lines:\n",
        "    file.write(line + \"\\n\")\n",
        "file.close()\n"
      ],
      "metadata": {
        "id": "Zv7k7Qt0L0CH"
      },
      "execution_count": null,
      "outputs": []
    }
  ]
}