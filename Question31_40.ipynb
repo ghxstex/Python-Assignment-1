{
  "nbformat": 4,
  "nbformat_minor": 0,
  "metadata": {
    "colab": {
      "provenance": [],
      "authorship_tag": "ABX9TyO4omMRhJM6ot4D9bZUOvWi",
      "include_colab_link": true
    },
    "kernelspec": {
      "name": "python3",
      "display_name": "Python 3"
    },
    "language_info": {
      "name": "python"
    }
  },
  "cells": [
    {
      "cell_type": "markdown",
      "metadata": {
        "id": "view-in-github",
        "colab_type": "text"
      },
      "source": [
        "<a href=\"https://colab.research.google.com/github/ghxstex/Python-Assignment-1/blob/main/Question31_40.ipynb\" target=\"_parent\"><img src=\"https://colab.research.google.com/assets/colab-badge.svg\" alt=\"Open In Colab\"/></a>"
      ]
    },
    {
      "cell_type": "markdown",
      "source": [
        "# Write a program to sort words in a sentence\n",
        "# alphabetically.\n"
      ],
      "metadata": {
        "id": "yASobrU5I1GH"
      }
    },
    {
      "cell_type": "code",
      "source": [
        "sentence = input(\"Enter a sentence: \")\n",
        "words = sentence.split()\n",
        "words.sort()\n",
        "print(\"Sorted words:\", ' '.join(words))\n"
      ],
      "metadata": {
        "colab": {
          "base_uri": "https://localhost:8080/"
        },
        "id": "s82ogFoZI68j",
        "outputId": "ba8c2c2f-9c4a-46b1-a6cd-e101c20cb55c"
      },
      "execution_count": 1,
      "outputs": [
        {
          "output_type": "stream",
          "name": "stdout",
          "text": [
            "Enter a sentence: My name is parth lalit\n",
            "Sorted words: My is lalit name parth\n"
          ]
        }
      ]
    },
    {
      "cell_type": "markdown",
      "source": [
        "# Concatenate two dictionaries and print the result"
      ],
      "metadata": {
        "id": "Jnqxoqi-JHVq"
      }
    },
    {
      "cell_type": "code",
      "source": [
        "dict1 = {'a': 1, 'b': 2}\n",
        "dict2 = {'c': 3, 'd': 4}\n",
        "\n",
        "merged = {}\n",
        "for key in dict1:\n",
        "    merged[key] = dict1[key]\n",
        "for key in dict2:\n",
        "    merged[key] = dict2[key]\n",
        "\n",
        "print(\"Concatenated dictionary:\", merged)\n"
      ],
      "metadata": {
        "colab": {
          "base_uri": "https://localhost:8080/"
        },
        "id": "9XZWAUrvJbds",
        "outputId": "1c5878f1-4b41-485d-bcdf-1e08d74ac390"
      },
      "execution_count": 2,
      "outputs": [
        {
          "output_type": "stream",
          "name": "stdout",
          "text": [
            "Concatenated dictionary: {'a': 1, 'b': 2, 'c': 3, 'd': 4}\n"
          ]
        }
      ]
    },
    {
      "cell_type": "markdown",
      "source": [
        "# Count how many vowels are present in each word of a\n",
        "# sentence.\n"
      ],
      "metadata": {
        "id": "dIQOjUoTJhE3"
      }
    },
    {
      "cell_type": "code",
      "source": [
        "sentence = input(\"Enter a sentence: \")\n",
        "words = sentence.split()\n",
        "\n",
        "for word in words:\n",
        "    count = 0\n",
        "    for char in word.lower():\n",
        "        if char in 'aeiou':\n",
        "            count += 1\n",
        "    print(f\"{word}: {count}\")\n"
      ],
      "metadata": {
        "colab": {
          "base_uri": "https://localhost:8080/"
        },
        "id": "PTXWqyD7Jizl",
        "outputId": "49bb62bb-3a67-4719-ba71-c8c2cacfc21f"
      },
      "execution_count": 3,
      "outputs": [
        {
          "output_type": "stream",
          "name": "stdout",
          "text": [
            "Enter a sentence: My name is parth lalit\n",
            "My: 0\n",
            "name: 2\n",
            "is: 1\n",
            "parth: 1\n",
            "lalit: 2\n"
          ]
        }
      ]
    },
    {
      "cell_type": "markdown",
      "source": [
        "# Accept a tuple and convert it into a list.\n"
      ],
      "metadata": {
        "id": "I3fVggD3Jsr8"
      }
    },
    {
      "cell_type": "code",
      "source": [
        "items = input(\"Enter tuple elements separated by spaces: \").split()\n",
        "t = tuple(items)\n",
        "l = list(t)\n",
        "print(\"List:\", l)\n"
      ],
      "metadata": {
        "colab": {
          "base_uri": "https://localhost:8080/"
        },
        "id": "HxOiAIzWJwK0",
        "outputId": "43f7f882-08df-4e62-dc47-3dd83ce89568"
      },
      "execution_count": 4,
      "outputs": [
        {
          "output_type": "stream",
          "name": "stdout",
          "text": [
            "Enter tuple elements separated by spaces: 12 13 14\n",
            "List: ['12', '13', '14']\n"
          ]
        }
      ]
    },
    {
      "cell_type": "markdown",
      "source": [
        "# Remove all whitespace from a given string using a\n",
        "# function."
      ],
      "metadata": {
        "id": "DdtNobPfJzCV"
      }
    },
    {
      "cell_type": "code",
      "source": [
        "def remove_whitespace(text):\n",
        "    return text.replace(\" \", \"\")\n",
        "\n",
        "s = input(\"Enter a string: \")\n",
        "print(\"Without spaces:\", remove_whitespace(s))\n"
      ],
      "metadata": {
        "colab": {
          "base_uri": "https://localhost:8080/"
        },
        "id": "vBJXY1KvJ32D",
        "outputId": "9169aea1-2220-428f-b16a-abced5ab66a2"
      },
      "execution_count": 6,
      "outputs": [
        {
          "output_type": "stream",
          "name": "stdout",
          "text": [
            "Enter a string: my name is parth lalit\n",
            "Without spaces: mynameisparthlalit\n"
          ]
        }
      ]
    },
    {
      "cell_type": "markdown",
      "source": [
        "# Merge two lists into a dictionary using one as keys and the\n",
        "# other as values."
      ],
      "metadata": {
        "id": "CuYDlhsJJ-Pb"
      }
    },
    {
      "cell_type": "code",
      "source": [
        "keys = input(\"Enter keys separated by spaces: \").split()\n",
        "values = input(\"Enter values separated by spaces: \").split()\n",
        "\n",
        "merged = {}\n",
        "for i in range(min(len(keys), len(values))):\n",
        "    merged[keys[i]] = values[i]\n",
        "\n",
        "print(\"Merged dictionary:\", merged)\n"
      ],
      "metadata": {
        "colab": {
          "base_uri": "https://localhost:8080/"
        },
        "id": "2ZtbjD2sKB5y",
        "outputId": "2bd22ab3-37b5-453d-bd05-a0d2bdbca163"
      },
      "execution_count": 7,
      "outputs": [
        {
          "output_type": "stream",
          "name": "stdout",
          "text": [
            "Enter keys separated by spaces: banana apple mango\n",
            "Enter values separated by spaces: 1\n",
            "Merged dictionary: {'banana': '1'}\n"
          ]
        }
      ]
    },
    {
      "cell_type": "markdown",
      "source": [
        "# Write a program to get the key with the maximum value in\n",
        "# a dictionary.\n"
      ],
      "metadata": {
        "id": "MMnJoDF0KHet"
      }
    },
    {
      "cell_type": "code",
      "source": [
        "data = {'a': 10, 'b': 25, 'c': 7, 'd': 30}\n",
        "\n",
        "max_key = None\n",
        "max_value = float('-inf')\n",
        "\n",
        "for key in data:\n",
        "    if data[key] > max_value:\n",
        "        max_value = data[key]\n",
        "        max_key = key\n",
        "\n",
        "print(\"Key with maximum value:\", max_key)\n"
      ],
      "metadata": {
        "colab": {
          "base_uri": "https://localhost:8080/"
        },
        "id": "g6l33g8AKK0Q",
        "outputId": "0c2506f2-fae1-429c-fec0-a7b8a6cf5a5a"
      },
      "execution_count": 8,
      "outputs": [
        {
          "output_type": "stream",
          "name": "stdout",
          "text": [
            "Key with maximum value: d\n"
          ]
        }
      ]
    },
    {
      "cell_type": "markdown",
      "source": [
        "# Accept a string and print a dictionary with word\n",
        "# frequencies."
      ],
      "metadata": {
        "id": "E7EpV712KNFd"
      }
    },
    {
      "cell_type": "code",
      "source": [
        "text = input(\"Enter a string: \")\n",
        "words = text.split()\n",
        "freq = {}\n",
        "\n",
        "for word in words:\n",
        "    if word in freq:\n",
        "        freq[word] += 1\n",
        "    else:\n",
        "        freq[word] = 1\n",
        "\n",
        "print(\"Word frequencies:\", freq)\n"
      ],
      "metadata": {
        "colab": {
          "base_uri": "https://localhost:8080/"
        },
        "id": "GrXC1n6aKRZE",
        "outputId": "a64b29ce-d8d3-4088-ef6d-ddc0d9e6f04e"
      },
      "execution_count": 9,
      "outputs": [
        {
          "output_type": "stream",
          "name": "stdout",
          "text": [
            "Enter a string: my name is parth lalit \n",
            "Word frequencies: {'my': 1, 'name': 1, 'is': 1, 'parth': 1, 'lalit': 1}\n"
          ]
        }
      ]
    },
    {
      "cell_type": "markdown",
      "source": [
        "# Write a program to check if a key exists in a dictionary"
      ],
      "metadata": {
        "id": "pXTNQN5jKXp6"
      }
    },
    {
      "cell_type": "code",
      "source": [
        "data = {'name': 'Alice', 'age': 25, 'city': 'Delhi'}\n",
        "key = input(\"Enter key to check: \")\n",
        "\n",
        "if key in data:\n",
        "    print(\"Key exists.\")\n",
        "else:\n",
        "    print(\"Key does not exist.\")\n"
      ],
      "metadata": {
        "colab": {
          "base_uri": "https://localhost:8080/"
        },
        "id": "HsAObKyDKeYj",
        "outputId": "6c4f7cf2-b0c8-4df0-82f6-92230861a648"
      },
      "execution_count": 12,
      "outputs": [
        {
          "output_type": "stream",
          "name": "stdout",
          "text": [
            "Enter key to check: name\n",
            "Key exists.\n"
          ]
        }
      ]
    },
    {
      "cell_type": "markdown",
      "source": [
        "# Write a program to replace all the vowels in a string with\n",
        "# '*'."
      ],
      "metadata": {
        "id": "3SOn2Gf2KnBA"
      }
    },
    {
      "cell_type": "code",
      "source": [
        "text = input(\"Enter a string: \")\n",
        "result = \"\"\n",
        "\n",
        "for char in text:\n",
        "    if char.lower() in 'aeiou':\n",
        "        result += '*'\n",
        "    else:\n",
        "        result += char\n",
        "\n",
        "print(\"Result:\", result)\n"
      ],
      "metadata": {
        "colab": {
          "base_uri": "https://localhost:8080/"
        },
        "id": "rNCYKMQmKp_Q",
        "outputId": "7a36ed05-ac25-42cc-bc01-c78218b2a9b8"
      },
      "execution_count": 13,
      "outputs": [
        {
          "output_type": "stream",
          "name": "stdout",
          "text": [
            "Enter a string: my name is parth lalit \n",
            "Result: my n*m* *s p*rth l*l*t \n"
          ]
        }
      ]
    }
  ]
}