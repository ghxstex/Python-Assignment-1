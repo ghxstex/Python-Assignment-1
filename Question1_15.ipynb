{
  "nbformat": 4,
  "nbformat_minor": 0,
  "metadata": {
    "colab": {
      "provenance": [],
      "authorship_tag": "ABX9TyNLXJJP+uVyxlB6mpanQLqY",
      "include_colab_link": true
    },
    "kernelspec": {
      "name": "python3",
      "display_name": "Python 3"
    },
    "language_info": {
      "name": "python"
    }
  },
  "cells": [
    {
      "cell_type": "markdown",
      "metadata": {
        "id": "view-in-github",
        "colab_type": "text"
      },
      "source": [
        "<a href=\"https://colab.research.google.com/github/ghxstex/Python-Assignment-1/blob/main/Question1_15.ipynb\" target=\"_parent\"><img src=\"https://colab.research.google.com/assets/colab-badge.svg\" alt=\"Open In Colab\"/></a>"
      ]
    },
    {
      "cell_type": "markdown",
      "source": [],
      "metadata": {
        "id": "I5dZwEW5DzdL"
      }
    },
    {
      "cell_type": "markdown",
      "source": [
        "# Write a Python program to find the second largest number in\n",
        "# a list without using the sort() method."
      ],
      "metadata": {
        "id": "byrt7wugAHpS"
      }
    },
    {
      "cell_type": "code",
      "execution_count": 11,
      "metadata": {
        "colab": {
          "base_uri": "https://localhost:8080/"
        },
        "id": "PJAKCgt7_vBw",
        "outputId": "21e09821-1ac9-4eb9-c5ec-5f9174b20726"
      },
      "outputs": [
        {
          "output_type": "stream",
          "name": "stdout",
          "text": [
            "Enter numbers separated by spaces: 12 12 15 21 23 42 \n",
            "Second largest number is: 23\n"
          ]
        }
      ],
      "source": [
        "numbers = input(\"Enter numbers separated by spaces: \").split()\n",
        "numbers = [int(x) for x in numbers]\n",
        "\n",
        "largest = second = float('-inf')\n",
        "for num in numbers:\n",
        "    if num > largest:\n",
        "        second = largest\n",
        "        largest = num\n",
        "    elif num > second and num != largest:\n",
        "        second = num\n",
        "\n",
        "if second == float('-inf'):\n",
        "    print(\"No second largest number found.\")\n",
        "else:\n",
        "    print(\"Second largest number is:\", second)\n"
      ]
    },
    {
      "cell_type": "markdown",
      "source": [
        "# Remove duplicates from a list without using set() and return it in sorted order."
      ],
      "metadata": {
        "id": "nbR_vmKQApWv"
      }
    },
    {
      "cell_type": "code",
      "source": [
        "numbers = input(\"Enter numbers separated by spaces: \").split()\n",
        "numbers = [int(x) for x in numbers]\n",
        "\n",
        "unique = []\n",
        "for num in numbers:\n",
        "    if num not in unique:\n",
        "        unique.append(num)\n",
        "\n",
        "for i in range(len(unique)):\n",
        "    for j in range(i + 1, len(unique)):\n",
        "        if unique[i] > unique[j]:\n",
        "            unique[i], unique[j] = unique[j], unique[i]\n",
        "\n",
        "print(unique)\n"
      ],
      "metadata": {
        "colab": {
          "base_uri": "https://localhost:8080/"
        },
        "id": "nUZRQ6XHAsnz",
        "outputId": "2e9c5278-ef4d-4aea-ca82-27abf2f32c37"
      },
      "execution_count": 12,
      "outputs": [
        {
          "output_type": "stream",
          "name": "stdout",
          "text": [
            "Enter numbers separated by spaces: 12 131 41 51 16 17 1 8\n",
            "[1, 8, 12, 16, 17, 41, 51, 131]\n"
          ]
        }
      ]
    },
    {
      "cell_type": "markdown",
      "source": [
        "# Find the sum and average of a list of numbers.\n"
      ],
      "metadata": {
        "id": "hiGrVekDBDbg"
      }
    },
    {
      "cell_type": "code",
      "source": [
        "numbers = input(\"Enter numbers separated by spaces: \").split()\n",
        "numbers = [int(x) for x in numbers]\n",
        "total = 0\n",
        "for num in numbers:\n",
        "    total += num\n",
        "average = total / len(numbers)\n",
        "print(\"Sum:\", total)\n",
        "print(\"Average:\", average)\n"
      ],
      "metadata": {
        "colab": {
          "base_uri": "https://localhost:8080/"
        },
        "id": "7_UPtf0EBGbR",
        "outputId": "f065c964-2fc7-46c4-b585-30e2d9a03725"
      },
      "execution_count": 3,
      "outputs": [
        {
          "output_type": "stream",
          "name": "stdout",
          "text": [
            "Enter numbers separated by spaces: 12 13 141 15 14\n",
            "Sum: 195\n",
            "Average: 39.0\n"
          ]
        }
      ]
    },
    {
      "cell_type": "markdown",
      "source": [
        "# Create a program to check if a number is prime.\n"
      ],
      "metadata": {
        "id": "rwP3zVwjBYZr"
      }
    },
    {
      "cell_type": "code",
      "source": [
        "n = int(input(\"Enter a number: \"))\n",
        "if n <= 1:\n",
        "    print(\"Not Prime\")\n",
        "else:\n",
        "    is_prime = True\n",
        "    for i in range(2, n):\n",
        "        if n % i == 0:\n",
        "            is_prime = False\n",
        "            break\n",
        "    if is_prime:\n",
        "        print(\"Prime\")\n",
        "    else:\n",
        "        print(\"Not Prime\")\n"
      ],
      "metadata": {
        "colab": {
          "base_uri": "https://localhost:8080/"
        },
        "id": "sxXaZnH0BdEt",
        "outputId": "89103f31-a372-46bc-96b1-71b783ca73bf"
      },
      "execution_count": 4,
      "outputs": [
        {
          "output_type": "stream",
          "name": "stdout",
          "text": [
            "Enter a number: 17\n",
            "Prime\n"
          ]
        }
      ]
    },
    {
      "cell_type": "markdown",
      "source": [
        "# Count the number of vowels, consonants, digits, and special characters in given string"
      ],
      "metadata": {
        "id": "bYNTgiCABh9V"
      }
    },
    {
      "cell_type": "code",
      "source": [
        "text = input(\"Enter a string: \")\n",
        "vowels = consonants = digits = special = 0\n",
        "\n",
        "for char in text:\n",
        "    if char.isalpha():\n",
        "        if char.lower() in 'aeiou':\n",
        "            vowels += 1\n",
        "        else:\n",
        "            consonants += 1\n",
        "    elif char.isdigit():\n",
        "        digits += 1\n",
        "    else:\n",
        "        special += 1\n",
        "\n",
        "print(\"Vowels:\", vowels)\n",
        "print(\"Consonants:\", consonants)\n",
        "print(\"Digits:\", digits)\n",
        "print(\"Special characters:\", special)\n"
      ],
      "metadata": {
        "colab": {
          "base_uri": "https://localhost:8080/"
        },
        "id": "yEGZ8_WqBl8t",
        "outputId": "ad54c1a8-883a-43a6-f72a-9aa67a297fc7"
      },
      "execution_count": 5,
      "outputs": [
        {
          "output_type": "stream",
          "name": "stdout",
          "text": [
            "Enter a string: My name is parth lalit\n",
            "Vowels: 6\n",
            "Consonants: 12\n",
            "Digits: 0\n",
            "Special characters: 4\n"
          ]
        }
      ]
    },
    {
      "cell_type": "markdown",
      "source": [
        "# Print all even numbers between 1 and 100 using a for loop.\n"
      ],
      "metadata": {
        "id": "ZENY7cjtB3GT"
      }
    },
    {
      "cell_type": "code",
      "source": [
        "for i in range(2, 101, 2):\n",
        "    print(i)\n"
      ],
      "metadata": {
        "colab": {
          "base_uri": "https://localhost:8080/"
        },
        "id": "MMjOnjk-B6tb",
        "outputId": "a07f4c93-8a06-46ad-8c3a-4e7a39c37b6d"
      },
      "execution_count": 6,
      "outputs": [
        {
          "output_type": "stream",
          "name": "stdout",
          "text": [
            "2\n",
            "4\n",
            "6\n",
            "8\n",
            "10\n",
            "12\n",
            "14\n",
            "16\n",
            "18\n",
            "20\n",
            "22\n",
            "24\n",
            "26\n",
            "28\n",
            "30\n",
            "32\n",
            "34\n",
            "36\n",
            "38\n",
            "40\n",
            "42\n",
            "44\n",
            "46\n",
            "48\n",
            "50\n",
            "52\n",
            "54\n",
            "56\n",
            "58\n",
            "60\n",
            "62\n",
            "64\n",
            "66\n",
            "68\n",
            "70\n",
            "72\n",
            "74\n",
            "76\n",
            "78\n",
            "80\n",
            "82\n",
            "84\n",
            "86\n",
            "88\n",
            "90\n",
            "92\n",
            "94\n",
            "96\n",
            "98\n",
            "100\n"
          ]
        }
      ]
    },
    {
      "cell_type": "markdown",
      "source": [
        "# Write a program to print the multiplication table of a number\n",
        "# entered by the user."
      ],
      "metadata": {
        "id": "LRIAWthKCDQq"
      }
    },
    {
      "cell_type": "code",
      "source": [
        "n = int(input(\"Enter a number: \"))\n",
        "for i in range(1, 11):\n",
        "    print(n, \"x\", i, \"=\", n * i)\n"
      ],
      "metadata": {
        "colab": {
          "base_uri": "https://localhost:8080/"
        },
        "id": "SnhyU9ozCDsj",
        "outputId": "ebc9762a-c819-4c65-a8f3-08f97ff57221"
      },
      "execution_count": 7,
      "outputs": [
        {
          "output_type": "stream",
          "name": "stdout",
          "text": [
            "Enter a number: 13\n",
            "13 x 1 = 13\n",
            "13 x 2 = 26\n",
            "13 x 3 = 39\n",
            "13 x 4 = 52\n",
            "13 x 5 = 65\n",
            "13 x 6 = 78\n",
            "13 x 7 = 91\n",
            "13 x 8 = 104\n",
            "13 x 9 = 117\n",
            "13 x 10 = 130\n"
          ]
        }
      ]
    },
    {
      "cell_type": "markdown",
      "source": [
        "# Create a list of numbers from 1 to 100 that are divisible by\n",
        "# both 3 and 5."
      ],
      "metadata": {
        "id": "qfKNUXA6CIQJ"
      }
    },
    {
      "cell_type": "code",
      "source": [
        "result = []\n",
        "for i in range(1, 101):\n",
        "    if i % 3 == 0 and i % 5 == 0:\n",
        "        result.append(i)\n",
        "print(result)\n"
      ],
      "metadata": {
        "colab": {
          "base_uri": "https://localhost:8080/"
        },
        "id": "ggnk3UVCCI96",
        "outputId": "b49e3aa3-1a10-4360-8714-afcca74c338e"
      },
      "execution_count": 8,
      "outputs": [
        {
          "output_type": "stream",
          "name": "stdout",
          "text": [
            "[15, 30, 45, 60, 75, 90]\n"
          ]
        }
      ]
    },
    {
      "cell_type": "markdown",
      "source": [
        "# Take a number input and print its reverse.\n"
      ],
      "metadata": {
        "id": "VZ_pwJ8yCKwI"
      }
    },
    {
      "cell_type": "code",
      "source": [
        "n = input(\"Enter a number: \")\n",
        "print(n[::-1])\n"
      ],
      "metadata": {
        "colab": {
          "base_uri": "https://localhost:8080/"
        },
        "id": "hmGN87P4CMzN",
        "outputId": "aff2a8d8-3be2-484d-c068-2126d84306c9"
      },
      "execution_count": 9,
      "outputs": [
        {
          "output_type": "stream",
          "name": "stdout",
          "text": [
            "Enter a number: 12\n",
            "21\n"
          ]
        }
      ]
    },
    {
      "cell_type": "markdown",
      "source": [
        "# Count the frequency of each character in a string and\n",
        "# store it in a dictionary"
      ],
      "metadata": {
        "id": "0da3Yp3_CP3_"
      }
    },
    {
      "cell_type": "code",
      "source": [
        "text = input(\"Enter a string: \")\n",
        "freq = {}\n",
        "for char in text:\n",
        "    if char in freq:\n",
        "        freq[char] += 1\n",
        "    else:\n",
        "        freq[char] = 1\n",
        "print(freq)\n"
      ],
      "metadata": {
        "colab": {
          "base_uri": "https://localhost:8080/"
        },
        "id": "SnSdR4T7CSbc",
        "outputId": "15b4da4f-49cf-444e-ca55-639b20d52e24"
      },
      "execution_count": 10,
      "outputs": [
        {
          "output_type": "stream",
          "name": "stdout",
          "text": [
            "Enter a string: My name is parth lalit \n",
            "{'M': 1, 'y': 1, ' ': 5, 'n': 1, 'a': 3, 'm': 1, 'e': 1, 'i': 2, 's': 1, 'p': 1, 'r': 1, 't': 2, 'h': 1, 'l': 2}\n"
          ]
        }
      ]
    },
    {
      "cell_type": "markdown",
      "source": [
        "# Write a Python program to generate the first n prime\n",
        "# numbers."
      ],
      "metadata": {
        "id": "DBoITKPADBTm"
      }
    },
    {
      "cell_type": "code",
      "source": [
        "n = int(input(\"Enter how many prime numbers you want: \"))\n",
        "count = 0\n",
        "num = 2\n",
        "while count < n:\n",
        "    for i in range(2, num):\n",
        "        if num % i == 0:\n",
        "            break\n",
        "    else:\n",
        "        print(num, end=\" \")\n",
        "        count += 1\n",
        "    num += 1\n"
      ],
      "metadata": {
        "colab": {
          "base_uri": "https://localhost:8080/"
        },
        "id": "dzf_2dd7DIh0",
        "outputId": "cf8a82b3-4987-4cff-881a-f274975d748e"
      },
      "execution_count": 14,
      "outputs": [
        {
          "output_type": "stream",
          "name": "stdout",
          "text": [
            "Enter how many prime numbers you want: 5\n",
            "2 3 5 7 11 "
          ]
        }
      ]
    },
    {
      "cell_type": "markdown",
      "source": [
        "# Check whether a number is a palindrome or not.\n"
      ],
      "metadata": {
        "id": "BmDoRnNKDBxa"
      }
    },
    {
      "cell_type": "code",
      "source": [
        "n = input(\"Enter a number: \")\n",
        "if n == n[::-1]:\n",
        "    print(\"Palindrome\")\n",
        "else:\n",
        "    print(\"Not Palindrome\")\n"
      ],
      "metadata": {
        "colab": {
          "base_uri": "https://localhost:8080/"
        },
        "id": "IpWRVYdoDVQG",
        "outputId": "aabb6a4b-def0-426a-a093-2c7d545506b6"
      },
      "execution_count": 15,
      "outputs": [
        {
          "output_type": "stream",
          "name": "stdout",
          "text": [
            "Enter a number: 12\n",
            "Not Palindrome\n"
          ]
        }
      ]
    },
    {
      "cell_type": "markdown",
      "source": [
        "# Count how many times a specific element appears in a\n",
        "# list.\n"
      ],
      "metadata": {
        "id": "prxnXs2SDEHc"
      }
    },
    {
      "cell_type": "code",
      "source": [
        "items = input(\"Enter list items separated by spaces: \").split()\n",
        "target = input(\"Enter the element to count: \")\n",
        "count = 0\n",
        "for item in items:\n",
        "    if item == target:\n",
        "        count += 1\n",
        "print(\"Count:\", count)\n"
      ],
      "metadata": {
        "colab": {
          "base_uri": "https://localhost:8080/"
        },
        "id": "Rb3MAAShDYrW",
        "outputId": "6631b8a8-9cb5-43c4-cd67-2092f9997474"
      },
      "execution_count": 16,
      "outputs": [
        {
          "output_type": "stream",
          "name": "stdout",
          "text": [
            "Enter list items separated by spaces: 12 13 14 15 161 7\n",
            "Enter the element to count: 2\n",
            "Count: 0\n"
          ]
        }
      ]
    },
    {
      "cell_type": "markdown",
      "source": [
        "# Create a list of squares of even numbers between 1 and\n",
        "# 50.\n"
      ],
      "metadata": {
        "id": "mgPs7OtiDF4x"
      }
    },
    {
      "cell_type": "code",
      "source": [
        "squares = []\n",
        "for i in range(2, 51, 2):\n",
        "    squares.append(i * i)\n",
        "print(squares)\n"
      ],
      "metadata": {
        "colab": {
          "base_uri": "https://localhost:8080/"
        },
        "id": "4qIznFQTDhUF",
        "outputId": "ae06edd4-7801-401d-8155-f798ba0d372e"
      },
      "execution_count": 17,
      "outputs": [
        {
          "output_type": "stream",
          "name": "stdout",
          "text": [
            "[4, 16, 36, 64, 100, 144, 196, 256, 324, 400, 484, 576, 676, 784, 900, 1024, 1156, 1296, 1444, 1600, 1764, 1936, 2116, 2304, 2500]\n"
          ]
        }
      ]
    },
    {
      "cell_type": "markdown",
      "source": [
        "# Accept a list and return a new list with only unique\n",
        "# elements (preserve order)."
      ],
      "metadata": {
        "id": "pqF39SNSDHGw"
      }
    },
    {
      "cell_type": "code",
      "source": [
        "items = input(\"Enter list items separated by spaces: \").split()\n",
        "unique = []\n",
        "for item in items:\n",
        "    if item not in unique:\n",
        "        unique.append(item)\n",
        "print(unique)\n"
      ],
      "metadata": {
        "colab": {
          "base_uri": "https://localhost:8080/"
        },
        "id": "0DWrKKLpE28g",
        "outputId": "af5ef811-454d-47e8-92f7-16632f6db330"
      },
      "execution_count": 19,
      "outputs": [
        {
          "output_type": "stream",
          "name": "stdout",
          "text": [
            "Enter list items separated by spaces: 12 13 14 15 16\n",
            "['12', '13', '14', '15', '16']\n"
          ]
        }
      ]
    }
  ]
}