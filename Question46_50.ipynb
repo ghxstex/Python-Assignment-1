{
  "nbformat": 4,
  "nbformat_minor": 0,
  "metadata": {
    "colab": {
      "provenance": [],
      "authorship_tag": "ABX9TyOlIxBL/7z/Z2PmsNnZ7RGq",
      "include_colab_link": true
    },
    "kernelspec": {
      "name": "python3",
      "display_name": "Python 3"
    },
    "language_info": {
      "name": "python"
    }
  },
  "cells": [
    {
      "cell_type": "markdown",
      "metadata": {
        "id": "view-in-github",
        "colab_type": "text"
      },
      "source": [
        "<a href=\"https://colab.research.google.com/github/ghxstex/Python-Assignment-1/blob/main/Question46_50.ipynb\" target=\"_parent\"><img src=\"https://colab.research.google.com/assets/colab-badge.svg\" alt=\"Open In Colab\"/></a>"
      ]
    },
    {
      "cell_type": "markdown",
      "source": [
        "# Write a program to take two numbers as input and handle\n",
        "# division by zero.\n"
      ],
      "metadata": {
        "id": "8ZwvwzTLMIU2"
      }
    },
    {
      "cell_type": "code",
      "source": [
        "try:\n",
        "    a = int(input(\"Enter numerator: \"))\n",
        "    b = int(input(\"Enter denominator: \"))\n",
        "    print(\"Result:\", a / b)\n",
        "except ZeroDivisionError:\n",
        "    print(\"Cannot divide by zero.\")\n"
      ],
      "metadata": {
        "colab": {
          "base_uri": "https://localhost:8080/"
        },
        "id": "qAOknzO2MZ-n",
        "outputId": "151aa939-150b-44a1-9384-f4d78874725b"
      },
      "execution_count": 1,
      "outputs": [
        {
          "output_type": "stream",
          "name": "stdout",
          "text": [
            "Enter numerator: 12\n",
            "Enter denominator: 23\n",
            "Result: 0.5217391304347826\n"
          ]
        }
      ]
    },
    {
      "cell_type": "markdown",
      "source": [
        "# Handle invalid user input (e.g., entering a string when a\n",
        "# number is expected)."
      ],
      "metadata": {
        "id": "YTq4bLo3MLgB"
      }
    },
    {
      "cell_type": "code",
      "source": [
        "try:\n",
        "    num = int(input(\"Enter a number: \"))\n",
        "    print(\"You entered:\", num)\n",
        "except ValueError:\n",
        "    print(\"Invalid input. Please enter a number.\")\n"
      ],
      "metadata": {
        "colab": {
          "base_uri": "https://localhost:8080/"
        },
        "id": "WbSlNOb4MafZ",
        "outputId": "7b996668-84cb-4506-c2f9-9a733ea3fd18"
      },
      "execution_count": 2,
      "outputs": [
        {
          "output_type": "stream",
          "name": "stdout",
          "text": [
            "Enter a number: 12\n",
            "You entered: 12\n"
          ]
        }
      ]
    },
    {
      "cell_type": "markdown",
      "source": [
        "# Try to open a file that doesn’t exist and handle the\n",
        "# FileNotFoundError"
      ],
      "metadata": {
        "id": "loQTQ4elMNvF"
      }
    },
    {
      "cell_type": "code",
      "source": [
        "try:\n",
        "    file = open(\"nonexistent.txt\", \"r\")\n",
        "    print(file.read())\n",
        "    file.close()\n",
        "except FileNotFoundError:\n",
        "    print(\"File not found.\")\n"
      ],
      "metadata": {
        "colab": {
          "base_uri": "https://localhost:8080/"
        },
        "id": "FWbLfg8BMbMT",
        "outputId": "9b7b4412-b97f-41cc-a6cd-03d741dfcaed"
      },
      "execution_count": 3,
      "outputs": [
        {
          "output_type": "stream",
          "name": "stdout",
          "text": [
            "File not found.\n"
          ]
        }
      ]
    },
    {
      "cell_type": "markdown",
      "source": [
        "# Create a list of numbers and try accessing an invalid\n",
        "# index. Handle the exception gracefully.\n"
      ],
      "metadata": {
        "id": "jtyBFG_JMRyW"
      }
    },
    {
      "cell_type": "code",
      "source": [
        "numbers = [10, 20, 30]\n",
        "try:\n",
        "    index = int(input(\"Enter index to access: \"))\n",
        "    print(\"Value:\", numbers[index])\n",
        "except IndexError:\n",
        "    print(\"Index out of range.\")\n"
      ],
      "metadata": {
        "colab": {
          "base_uri": "https://localhost:8080/"
        },
        "id": "jNHTkF6kMbmj",
        "outputId": "3b965d94-ffa9-487c-e326-b17bb3263ff7"
      },
      "execution_count": 4,
      "outputs": [
        {
          "output_type": "stream",
          "name": "stdout",
          "text": [
            "Enter index to access: 40\n",
            "Index out of range.\n"
          ]
        }
      ]
    },
    {
      "cell_type": "markdown",
      "source": [
        "# Use a try-except-finally block to demonstrate the\n",
        "# execution of the finally clause."
      ],
      "metadata": {
        "id": "mnTS8lY4MUIC"
      }
    },
    {
      "cell_type": "code",
      "source": [
        "try:\n",
        "    x = int(input(\"Enter a number: \"))\n",
        "    y = 10 / x\n",
        "    print(\"Result:\", y)\n",
        "except ZeroDivisionError:\n",
        "    print(\"Cannot divide by zero.\")\n",
        "finally:\n",
        "    print(\"This always runs, no matter what.\")\n"
      ],
      "metadata": {
        "colab": {
          "base_uri": "https://localhost:8080/"
        },
        "id": "JP0UvhIKMb7z",
        "outputId": "58a8f3ff-99a6-441f-e13b-96b9dfd89846"
      },
      "execution_count": 5,
      "outputs": [
        {
          "output_type": "stream",
          "name": "stdout",
          "text": [
            "Enter a number: 12\n",
            "Result: 0.8333333333333334\n",
            "This always runs, no matter what.\n"
          ]
        }
      ]
    }
  ]
}