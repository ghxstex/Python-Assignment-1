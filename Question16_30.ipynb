{
  "nbformat": 4,
  "nbformat_minor": 0,
  "metadata": {
    "colab": {
      "provenance": [],
      "authorship_tag": "ABX9TyOcOTGe9akqtheYgMXmDk3J",
      "include_colab_link": true
    },
    "kernelspec": {
      "name": "python3",
      "display_name": "Python 3"
    },
    "language_info": {
      "name": "python"
    }
  },
  "cells": [
    {
      "cell_type": "markdown",
      "metadata": {
        "id": "view-in-github",
        "colab_type": "text"
      },
      "source": [
        "<a href=\"https://colab.research.google.com/github/ghxstex/Python-Assignment-1/blob/main/Question16_30.ipynb\" target=\"_parent\"><img src=\"https://colab.research.google.com/assets/colab-badge.svg\" alt=\"Open In Colab\"/></a>"
      ]
    },
    {
      "cell_type": "markdown",
      "source": [
        "# Write a function to check if a number is even or odd.\n"
      ],
      "metadata": {
        "id": "qabHhB_mGIiv"
      }
    },
    {
      "cell_type": "code",
      "source": [
        "def check_even_odd(n):\n",
        "    if n % 2 == 0:\n",
        "        print(\"Even\")\n",
        "    else:\n",
        "        print(\"Odd\")\n",
        "\n",
        "num = int(input(\"Enter a number: \"))\n",
        "check_even_odd(num)\n"
      ],
      "metadata": {
        "colab": {
          "base_uri": "https://localhost:8080/"
        },
        "id": "MCmuo-aZGU-S",
        "outputId": "79f165d9-b1da-4d8a-8427-eeb17db4c403"
      },
      "execution_count": 1,
      "outputs": [
        {
          "output_type": "stream",
          "name": "stdout",
          "text": [
            "Enter a number: 15\n",
            "Odd\n"
          ]
        }
      ]
    },
    {
      "cell_type": "markdown",
      "source": [
        "# Create a function that takes a list of numbers and returns\n",
        "# their cumulative sum."
      ],
      "metadata": {
        "id": "FeaFwyqbGm-K"
      }
    },
    {
      "cell_type": "code",
      "source": [
        "def cumulative_sum(numbers):\n",
        "    result = []\n",
        "    total = 0\n",
        "    for num in numbers:\n",
        "        total += num\n",
        "        result.append(total)\n",
        "    return result\n",
        "\n",
        "nums = input(\"Enter numbers separated by spaces: \").split()\n",
        "nums = [int(x) for x in nums]\n",
        "print(cumulative_sum(nums))\n"
      ],
      "metadata": {
        "colab": {
          "base_uri": "https://localhost:8080/"
        },
        "id": "nj51X7GVGqmi",
        "outputId": "c7c7034c-2b38-4f9b-9347-2fbf804da427"
      },
      "execution_count": 2,
      "outputs": [
        {
          "output_type": "stream",
          "name": "stdout",
          "text": [
            "Enter numbers separated by spaces: 12 13 14 15 16 \n",
            "[12, 25, 39, 54, 70]\n"
          ]
        }
      ]
    },
    {
      "cell_type": "markdown",
      "source": [
        "# Write a recursive function to find the factorial of a number."
      ],
      "metadata": {
        "id": "5v3sFo7DGvZk"
      }
    },
    {
      "cell_type": "code",
      "source": [
        "def factorial(n):\n",
        "    if n == 0 or n == 1:\n",
        "        return 1\n",
        "    return n * factorial(n - 1)\n",
        "\n",
        "num = int(input(\"Enter a number: \"))\n",
        "print(\"Factorial:\", factorial(num))\n"
      ],
      "metadata": {
        "colab": {
          "base_uri": "https://localhost:8080/"
        },
        "id": "aFE67Z2_G2NW",
        "outputId": "ecf0bdde-f794-4444-80f6-7068b3ea1c77"
      },
      "execution_count": 3,
      "outputs": [
        {
          "output_type": "stream",
          "name": "stdout",
          "text": [
            "Enter a number: 12\n",
            "Factorial: 479001600\n"
          ]
        }
      ]
    },
    {
      "cell_type": "markdown",
      "source": [
        "# Write a function to print the Fibonacci series up to n terms."
      ],
      "metadata": {
        "id": "McNswtFPG4fW"
      }
    },
    {
      "cell_type": "code",
      "source": [
        "def fibonacci(n):\n",
        "    a, b = 0, 1\n",
        "    for _ in range(n):\n",
        "        print(a, end=\" \")\n",
        "        a, b = b, a + b\n",
        "\n",
        "terms = int(input(\"Enter number of terms: \"))\n",
        "fibonacci(terms)\n"
      ],
      "metadata": {
        "colab": {
          "base_uri": "https://localhost:8080/"
        },
        "id": "BnH_kJNtG8KL",
        "outputId": "c60e230c-9f94-4892-bb60-47c9e5b0608c"
      },
      "execution_count": 4,
      "outputs": [
        {
          "output_type": "stream",
          "name": "stdout",
          "text": [
            "Enter number of terms: 10\n",
            "0 1 1 2 3 5 8 13 21 34 "
          ]
        }
      ]
    },
    {
      "cell_type": "markdown",
      "source": [
        "# Define a function that checks if a given string is a\n",
        "# palindrome.\n"
      ],
      "metadata": {
        "id": "GHKV7AP2G-nG"
      }
    },
    {
      "cell_type": "code",
      "source": [
        "def is_palindrome(s):\n",
        "    return s == s[::-1]\n",
        "\n",
        "text = input(\"Enter a string: \")\n",
        "if is_palindrome(text):\n",
        "    print(\"Palindrome\")\n",
        "else:\n",
        "    print(\"Not Palindrome\")\n"
      ],
      "metadata": {
        "colab": {
          "base_uri": "https://localhost:8080/"
        },
        "id": "TGrdxSfHHCLN",
        "outputId": "ba94da90-72e5-41b6-c442-a6522bd67038"
      },
      "execution_count": 5,
      "outputs": [
        {
          "output_type": "stream",
          "name": "stdout",
          "text": [
            "Enter a string: 12 13 14 15 16 17\n",
            "Not Palindrome\n"
          ]
        }
      ]
    },
    {
      "cell_type": "markdown",
      "source": [
        "# Create a function that returns the maximum and minimum\n",
        "# elements from a list."
      ],
      "metadata": {
        "id": "L6s-rcTCHFdf"
      }
    },
    {
      "cell_type": "code",
      "source": [
        "def find_max_min(numbers):\n",
        "    max_num = min_num = numbers[0]\n",
        "    for num in numbers:\n",
        "        if num > max_num:\n",
        "            max_num = num\n",
        "        if num < min_num:\n",
        "            min_num = num\n",
        "    return max_num, min_num\n",
        "\n",
        "nums = input(\"Enter numbers separated by spaces: \").split()\n",
        "nums = [int(x) for x in nums]\n",
        "maximum, minimum = find_max_min(nums)\n",
        "print(\"Maximum:\", maximum)\n",
        "print(\"Minimum:\", minimum)\n"
      ],
      "metadata": {
        "colab": {
          "base_uri": "https://localhost:8080/"
        },
        "id": "os-eY85lHJFf",
        "outputId": "8e21c905-8af8-4050-ad35-39319c2c82ed"
      },
      "execution_count": 6,
      "outputs": [
        {
          "output_type": "stream",
          "name": "stdout",
          "text": [
            "Enter numbers separated by spaces: 12 14 16 72 63 94 6 5 93 72 \n",
            "Maximum: 94\n",
            "Minimum: 5\n"
          ]
        }
      ]
    },
    {
      "cell_type": "markdown",
      "source": [
        "# Write a function to check whether a string is a pangram.\n"
      ],
      "metadata": {
        "id": "xH1ibDbLHO9I"
      }
    },
    {
      "cell_type": "code",
      "source": [
        "def is_pangram(text):\n",
        "    text = text.lower()\n",
        "    for char in 'abcdefghijklmnopqrstuvwxyz':\n",
        "        if char not in text:\n",
        "            return False\n",
        "    return True\n",
        "\n",
        "sentence = input(\"Enter a sentence: \")\n",
        "if is_pangram(sentence):\n",
        "    print(\"Pangram\")\n",
        "else:\n",
        "    print(\"Not Pangram\")\n"
      ],
      "metadata": {
        "colab": {
          "base_uri": "https://localhost:8080/"
        },
        "id": "mcPqsHW6HSRL",
        "outputId": "4c77c1ff-fdf9-4dc2-9023-a0629629594c"
      },
      "execution_count": 7,
      "outputs": [
        {
          "output_type": "stream",
          "name": "stdout",
          "text": [
            "Enter a sentence: my name is parth lalit \n",
            "Not Pangram\n"
          ]
        }
      ]
    },
    {
      "cell_type": "markdown",
      "source": [
        "# Create a function that finds and returns all prime numbers\n",
        "# in a given range.\n"
      ],
      "metadata": {
        "id": "Ku2SQCSfHXIb"
      }
    },
    {
      "cell_type": "code",
      "source": [
        "def find_primes(start, end):\n",
        "    primes = []\n",
        "    for num in range(start, end + 1):\n",
        "        if num > 1:\n",
        "            for i in range(2, num):\n",
        "                if num % i == 0:\n",
        "                    break\n",
        "            else:\n",
        "                primes.append(num)\n",
        "    return primes\n",
        "\n",
        "a = int(input(\"Enter start of range: \"))\n",
        "b = int(input(\"Enter end of range: \"))\n",
        "print(\"Prime numbers:\", find_primes(a, b))\n"
      ],
      "metadata": {
        "colab": {
          "base_uri": "https://localhost:8080/"
        },
        "id": "oHC6snswHaqt",
        "outputId": "f8650259-e75f-41b9-bb11-1c7daab9d062"
      },
      "execution_count": 8,
      "outputs": [
        {
          "output_type": "stream",
          "name": "stdout",
          "text": [
            "Enter start of range: 1\n",
            "Enter end of range: 90\n",
            "Prime numbers: [2, 3, 5, 7, 11, 13, 17, 19, 23, 29, 31, 37, 41, 43, 47, 53, 59, 61, 67, 71, 73, 79, 83, 89]\n"
          ]
        }
      ]
    },
    {
      "cell_type": "markdown",
      "source": [
        "# Write a function to return the number of uppercase and\n",
        "# lowercase letters in a string"
      ],
      "metadata": {
        "id": "w0bYmI5cHeRI"
      }
    },
    {
      "cell_type": "code",
      "source": [
        "def count_case(text):\n",
        "    upper = lower = 0\n",
        "    for char in text:\n",
        "        if char.isupper():\n",
        "            upper += 1\n",
        "        elif char.islower():\n",
        "            lower += 1\n",
        "    return upper, lower\n",
        "\n",
        "s = input(\"Enter a string: \")\n",
        "u, l = count_case(s)\n",
        "print(\"Uppercase letters:\", u)\n",
        "print(\"Lowercase letters:\", l)\n"
      ],
      "metadata": {
        "colab": {
          "base_uri": "https://localhost:8080/"
        },
        "id": "oLsEOoGDHhs-",
        "outputId": "0927ffb0-b4f4-4c43-a219-fb6cc13b64b4"
      },
      "execution_count": 9,
      "outputs": [
        {
          "output_type": "stream",
          "name": "stdout",
          "text": [
            "Enter a string: My  NaMe Is ParTH LaLIt\n",
            "Uppercase letters: 10\n",
            "Lowercase letters: 8\n"
          ]
        }
      ]
    },
    {
      "cell_type": "markdown",
      "source": [
        "# Write a function to compute the sum of digits of a number."
      ],
      "metadata": {
        "id": "7lsSpoSOHmhX"
      }
    },
    {
      "cell_type": "code",
      "source": [
        "def sum_of_digits(n):\n",
        "    total = 0\n",
        "    for digit in str(n):\n",
        "        total += int(digit)\n",
        "    return total\n",
        "\n",
        "num = int(input(\"Enter a number: \"))\n",
        "print(\"Sum of digits:\", sum_of_digits(num))\n"
      ],
      "metadata": {
        "colab": {
          "base_uri": "https://localhost:8080/"
        },
        "id": "Lp9AwkasHq5z",
        "outputId": "4c10ce5a-b3e2-41a2-a2d0-6681f8ca5fd7"
      },
      "execution_count": 10,
      "outputs": [
        {
          "output_type": "stream",
          "name": "stdout",
          "text": [
            "Enter a number: 15\n",
            "Sum of digits: 6\n"
          ]
        }
      ]
    },
    {
      "cell_type": "markdown",
      "source": [
        "# Write a function to count words in a sentence."
      ],
      "metadata": {
        "id": "ndN2HZtvHuYb"
      }
    },
    {
      "cell_type": "code",
      "source": [
        "def count_words(sentence):\n",
        "    words = sentence.split()\n",
        "    return len(words)\n",
        "\n",
        "text = input(\"Enter a sentence: \")\n",
        "print(\"Word count:\", count_words(text))\n"
      ],
      "metadata": {
        "colab": {
          "base_uri": "https://localhost:8080/"
        },
        "id": "k93J6MWaHwv9",
        "outputId": "47dbcee3-df46-4a77-ed26-745b306d6552"
      },
      "execution_count": 11,
      "outputs": [
        {
          "output_type": "stream",
          "name": "stdout",
          "text": [
            "Enter a sentence: My name is parth lalit\n",
            "Word count: 5\n"
          ]
        }
      ]
    },
    {
      "cell_type": "markdown",
      "source": [
        "# Create a function to remove all punctuation from a string"
      ],
      "metadata": {
        "id": "HIzdSlJgH1zc"
      }
    },
    {
      "cell_type": "code",
      "source": [
        "def remove_punctuation(text):\n",
        "    result = \"\"\n",
        "    for char in text:\n",
        "        if char.isalnum() or char.isspace():\n",
        "            result += char\n",
        "    return result\n",
        "\n",
        "s = input(\"Enter a string: \")\n",
        "print(remove_punctuation(s))\n"
      ],
      "metadata": {
        "colab": {
          "base_uri": "https://localhost:8080/"
        },
        "id": "fHztVI1rH34e",
        "outputId": "764283c4-5ecc-4c1a-d503-5495fecea6b4"
      },
      "execution_count": 12,
      "outputs": [
        {
          "output_type": "stream",
          "name": "stdout",
          "text": [
            "Enter a string: My name is parth lalit\n",
            "My name is parth lalit\n"
          ]
        }
      ]
    },
    {
      "cell_type": "markdown",
      "source": [
        "# Create a function that finds the GCD (greatest common\n",
        "# divisor) of two numbers.\n"
      ],
      "metadata": {
        "id": "oHGmyNB4IAHT"
      }
    },
    {
      "cell_type": "code",
      "source": [
        "def find_gcd(a, b):\n",
        "    while b != 0:\n",
        "        a, b = b, a % b\n",
        "    return a\n",
        "\n",
        "x = int(input(\"Enter first number: \"))\n",
        "y = int(input(\"Enter second number: \"))\n",
        "print(\"GCD:\", find_gcd(x, y))\n"
      ],
      "metadata": {
        "colab": {
          "base_uri": "https://localhost:8080/"
        },
        "id": "2L03OOCVIDpg",
        "outputId": "48c0810b-2232-425c-a168-d480ff228c5f"
      },
      "execution_count": 13,
      "outputs": [
        {
          "output_type": "stream",
          "name": "stdout",
          "text": [
            "Enter first number: 12\n",
            "Enter second number: 45\n",
            "GCD: 3\n"
          ]
        }
      ]
    },
    {
      "cell_type": "markdown",
      "source": [
        "# Write a function that takes a list and returns only those\n",
        "# elements that appear more than once.\n"
      ],
      "metadata": {
        "id": "tASXu7N0IIS5"
      }
    },
    {
      "cell_type": "code",
      "source": [
        "def find_duplicates(lst):\n",
        "    result = []\n",
        "    for item in lst:\n",
        "        if lst.count(item) > 1 and item not in result:\n",
        "            result.append(item)\n",
        "    return result\n",
        "\n",
        "items = input(\"Enter list items separated by spaces: \").split()\n",
        "print(\"Duplicates:\", find_duplicates(items))\n"
      ],
      "metadata": {
        "colab": {
          "base_uri": "https://localhost:8080/"
        },
        "id": "gKHjFbu7IO2p",
        "outputId": "5a93ffed-e31c-4ff4-db02-4cceb06d5314"
      },
      "execution_count": 14,
      "outputs": [
        {
          "output_type": "stream",
          "name": "stdout",
          "text": [
            "Enter list items separated by spaces: 12 12 12 45 74 82 65 93 36 82 76 76 54 54 \n",
            "Duplicates: ['12', '82', '76', '54']\n"
          ]
        }
      ]
    },
    {
      "cell_type": "markdown",
      "source": [
        "# Create a function to return the largest of three numbers."
      ],
      "metadata": {
        "id": "JO7jpF0zIVzf"
      }
    },
    {
      "cell_type": "code",
      "source": [
        "def largest_of_three(a, b, c):\n",
        "    if a >= b and a >= c:\n",
        "        return a\n",
        "    elif b >= a and b >= c:\n",
        "        return b\n",
        "    else:\n",
        "        return c\n",
        "\n",
        "x = int(input(\"Enter first number: \"))\n",
        "y = int(input(\"Enter second number: \"))\n",
        "z = int(input(\"Enter third number: \"))\n",
        "print(\"Largest number:\", largest_of_three(x, y, z))\n"
      ],
      "metadata": {
        "colab": {
          "base_uri": "https://localhost:8080/"
        },
        "id": "55JmiGKPIYWh",
        "outputId": "d92e1e0b-0cd4-445b-a8a6-cb03d3c7d893"
      },
      "execution_count": 15,
      "outputs": [
        {
          "output_type": "stream",
          "name": "stdout",
          "text": [
            "Enter first number: 12\n",
            "Enter second number: 78\n",
            "Enter third number: 987\n",
            "Largest number: 987\n"
          ]
        }
      ]
    }
  ]
}